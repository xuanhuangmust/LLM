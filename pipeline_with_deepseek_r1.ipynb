{
  "nbformat": 4,
  "nbformat_minor": 0,
  "metadata": {
    "colab": {
      "provenance": [],
      "gpuType": "T4",
      "include_colab_link": true
    },
    "kernelspec": {
      "name": "python3",
      "display_name": "Python 3"
    },
    "language_info": {
      "name": "python"
    },
    "accelerator": "GPU"
  },
  "cells": [
    {
      "cell_type": "markdown",
      "metadata": {
        "id": "view-in-github",
        "colab_type": "text"
      },
      "source": [
        "<a href=\"https://colab.research.google.com/github/xuanhuangmust/LLM/blob/main/pipeline_with_deepseek_r1.ipynb\" target=\"_parent\"><img src=\"https://colab.research.google.com/assets/colab-badge.svg\" alt=\"Open In Colab\"/></a>"
      ]
    },
    {
      "cell_type": "code",
      "source": [
        "!pip install transformers  torch"
      ],
      "metadata": {
        "id": "noPgUyLi1jYO"
      },
      "execution_count": null,
      "outputs": []
    },
    {
      "cell_type": "code",
      "source": [
        "from transformers import pipeline\n",
        "\n",
        "generator  = pipeline(\"text-generation\", model=\"deepseek-ai/DeepSeek-R1-Distill-Qwen-1.5B\", device_map=\"auto\")\n",
        "\n",
        "result=generator(\n",
        "    \"一個農場有雞跟兔，共有5個頭16隻腳，請問雞跟兔各有幾隻?請用繁體中文回答\",\n",
        "    truncation=True,\n",
        "    max_length=30000,\n",
        "    num_return_sequences=1,\n",
        ")\n",
        "\n",
        "print(result)\n"
      ],
      "metadata": {
        "id": "NmNagJlA1Jdw"
      },
      "execution_count": null,
      "outputs": []
    },
    {
      "cell_type": "code",
      "source": [],
      "metadata": {
        "id": "OP4nz1Vj9rlt"
      },
      "execution_count": null,
      "outputs": []
    }
  ]
}